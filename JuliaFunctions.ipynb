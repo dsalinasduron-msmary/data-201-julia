{
 "cells": [
  {
   "cell_type": "markdown",
   "id": "840790bd-523f-4a41-961d-5b2a7de80730",
   "metadata": {},
   "source": [
    "# Julia Functions and Control Flow"
   ]
  },
  {
   "cell_type": "markdown",
   "id": "dfd94928-f74c-47ba-ac75-3f66100bf4ec",
   "metadata": {},
   "source": [
    "## Function Example"
   ]
  },
  {
   "cell_type": "code",
   "execution_count": 17,
   "id": "0e315ce3-06c4-486e-9d1a-005c1c60292f",
   "metadata": {},
   "outputs": [
    {
     "data": {
      "text/plain": [
       "f (generic function with 1 method)"
      ]
     },
     "execution_count": 17,
     "metadata": {},
     "output_type": "execute_result"
    }
   ],
   "source": [
    "function f(x :: Number, y :: String)\n",
    "    print(\"My name is \")\n",
    "    print(y)\n",
    "    print(\". \")\n",
    "    print(\"My age is \")\n",
    "    print(x)\n",
    "    print(\".\")\n",
    "end"
   ]
  },
  {
   "cell_type": "code",
   "execution_count": 18,
   "id": "6b0578ce-be4e-43ae-a2d8-e052b4ef688a",
   "metadata": {},
   "outputs": [
    {
     "name": "stdout",
     "output_type": "stream",
     "text": [
      "My name is Daniel. My age is 34."
     ]
    }
   ],
   "source": [
    "f(34, \"Daniel\")"
   ]
  },
  {
   "cell_type": "markdown",
   "id": "4b4a5b96-fe2c-49d9-92b5-143a770254f0",
   "metadata": {},
   "source": [
    "Functions may have a `return` statement; by default, the value of the last expression is returned. Using return without a value will result in returning `nothing`; sometimes function semantics also result in explicitly returning\n",
    "`nothing`."
   ]
  },
  {
   "cell_type": "code",
   "execution_count": 29,
   "id": "d925df72-95a8-4408-97ee-540d9d1075cd",
   "metadata": {},
   "outputs": [
    {
     "name": "stdout",
     "output_type": "stream",
     "text": [
      "5\n",
      "nothing\n",
      "nothing"
     ]
    }
   ],
   "source": [
    "function f0() \n",
    "    return 5\n",
    "end\n",
    "function f00()\n",
    "    # explicit return nothing\n",
    "    return nothing\n",
    "end\n",
    "\n",
    "function f000()\n",
    "end\n",
    "\n",
    "print(f0())\n",
    "print(\"\\n\")\n",
    "print(f00())\n",
    "print(\"\\n\")\n",
    "print(f000())"
   ]
  },
  {
   "cell_type": "markdown",
   "id": "8c27f143-d85b-475c-8134-ec37241143b5",
   "metadata": {},
   "source": [
    "## Methods"
   ]
  },
  {
   "cell_type": "markdown",
   "id": "6d2d8d68-87c6-4a42-876d-fa685dae12b3",
   "metadata": {
    "jp-MarkdownHeadingCollapsed": true
   },
   "source": [
    "### Parameter Types"
   ]
  },
  {
   "cell_type": "markdown",
   "id": "3ffeb8ba-fe23-475f-828d-aa08168a32c5",
   "metadata": {},
   "source": [
    "A function can have several <ins>methods</ins>; the types of the arguments decide which method gets run."
   ]
  },
  {
   "cell_type": "code",
   "execution_count": 21,
   "id": "d58d20e7-91fa-4b73-ae52-fe103fc47c06",
   "metadata": {},
   "outputs": [
    {
     "data": {
      "text/plain": [
       "f (generic function with 2 methods)"
      ]
     },
     "execution_count": 21,
     "metadata": {},
     "output_type": "execute_result"
    }
   ],
   "source": [
    "function f(x :: String, y :: String)\n",
    "    print(\"My full name is \")\n",
    "    print(x)\n",
    "    print(\" \")\n",
    "    print(y)\n",
    "    print(\".\")\n",
    "end"
   ]
  },
  {
   "cell_type": "code",
   "execution_count": 22,
   "id": "28c2ab8a-6110-44d6-9721-45d2a84b41bd",
   "metadata": {},
   "outputs": [
    {
     "name": "stdout",
     "output_type": "stream",
     "text": [
      "My full name is Daniel Salinas Duron."
     ]
    }
   ],
   "source": [
    "f(\"Daniel\", \"Salinas Duron\")"
   ]
  },
  {
   "cell_type": "markdown",
   "id": "66a6fbb3-7272-42e0-9d20-108f34b5b8e6",
   "metadata": {},
   "source": [
    "<div class=\"alert alert-info\">JULIA TIP: Do not specify the type unless the semantics of the function require it.</div>"
   ]
  },
  {
   "cell_type": "markdown",
   "id": "3bd94d70-79bd-49e3-80ab-7546a6829128",
   "metadata": {},
   "source": [
    "### Problem 1\n",
    "\n",
    "<div class=\"alert alert-danger\">\n",
    "    <p>Make a function that has three different methods. The function must pass the tests below.</p>\n",
    "</div>"
   ]
  },
  {
   "cell_type": "code",
   "execution_count": 27,
   "id": "0d7eefeb-3a29-4d7b-bb06-ed6da5a42f81",
   "metadata": {},
   "outputs": [
    {
     "name": "stdout",
     "output_type": "stream",
     "text": [
      "success"
     ]
    }
   ],
   "source": [
    "# define f1 below\n",
    "\n",
    "test_1 = f1(5,5) == 5\n",
    "test_2 = f1(\"5\",\"5\") == \"5\"\n",
    "test_3 = f1(5,\"5\") == 5\n",
    "test_4 = f1(\"5\",5) == \"5\"\n",
    "\n",
    "if test_1 & test_2 & test_3 & test_4\n",
    "    print(\"success\")\n",
    "else \n",
    "    print(\"failure\")\n",
    "end"
   ]
  },
  {
   "cell_type": "markdown",
   "id": "95a4035b-0679-4568-82a8-fdd6dbfb903a",
   "metadata": {},
   "source": [
    "### Problem 2\n",
    "\n",
    "<div class=\"alert alert-danger\">\n",
    "    <p>Make a function that returns \\(x + 1\\) if passed in a number \\(x\\). If passed in a string \\(x\\), have the function convert the string to a number and then return \\(x + 1\\). You are not allowed to use if statements. The function must have two methods and pass the tests below.</p>\n",
    "</div>\n",
    "<a href=\"https://docs.julialang.org/en/v1/base/numbers/#Base.parse\">Convert string to number using parse.</a>"
   ]
  },
  {
   "cell_type": "code",
   "execution_count": 17,
   "id": "267914fb-9aa3-4a00-a127-301240e27c22",
   "metadata": {},
   "outputs": [
    {
     "name": "stdout",
     "output_type": "stream",
     "text": [
      "success"
     ]
    }
   ],
   "source": [
    "test1 = f2(5) == 6\n",
    "test2 = f2(\"5\") == 6\n",
    "\n",
    "if test1 & test2\n",
    "    print(\"success\")\n",
    "else\n",
    "    print(\"failure\")\n",
    "end"
   ]
  },
  {
   "cell_type": "markdown",
   "id": "bc1b89ea-1960-4bfe-8bf5-b2bccc791281",
   "metadata": {},
   "source": [
    "## Control Flow Examples"
   ]
  },
  {
   "cell_type": "markdown",
   "id": "410a6924-62a2-4cec-9559-3f9aedd73d55",
   "metadata": {},
   "source": [
    "### Conditional Flow"
   ]
  },
  {
   "cell_type": "code",
   "execution_count": 31,
   "id": "4715af92-ab77-448e-b647-cdfeeac1e574",
   "metadata": {},
   "outputs": [
    {
     "name": "stdout",
     "output_type": "stream",
     "text": [
      "X is less than or equal to five."
     ]
    }
   ],
   "source": [
    "x = 5\n",
    "if x > 6\n",
    "    print(\"X is larger than six.\")\n",
    "elseif x > 5\n",
    "    print(\"X is larger than five.\")\n",
    "else\n",
    "    print(\"X is less than or equal to five.\")\n",
    "end"
   ]
  },
  {
   "cell_type": "markdown",
   "id": "fec00d48-e678-4775-8e19-5b90edb57f40",
   "metadata": {},
   "source": [
    "### Loops"
   ]
  },
  {
   "cell_type": "code",
   "execution_count": 40,
   "id": "a010b8de-fce4-4b41-954e-e2eaaeea04ed",
   "metadata": {},
   "outputs": [
    {
     "name": "stdout",
     "output_type": "stream",
     "text": [
      "54321"
     ]
    }
   ],
   "source": [
    "x = 5\n",
    "while x > 0\n",
    "    print(x)\n",
    "    x = x - 1\n",
    "end"
   ]
  },
  {
   "cell_type": "code",
   "execution_count": 39,
   "id": "b6b8c811-d574-4e45-b42b-cb2a7b734b1a",
   "metadata": {},
   "outputs": [
    {
     "name": "stdout",
     "output_type": "stream",
     "text": [
      "12345"
     ]
    }
   ],
   "source": [
    "for x = 1:5\n",
    "    print(x)\n",
    "end"
   ]
  },
  {
   "cell_type": "markdown",
   "id": "4f5497d4-b1f8-445e-90ec-e262030097cd",
   "metadata": {},
   "source": [
    "### Problem 3\n",
    "\n",
    "<div class=\"alert alert-danger\">\n",
    "<p>Make a function that computes \\(y = x / 2\\) if \\(x\\) is even and calls itself with \\(y\\) as argument. Have the function compute \\(y = 3x + 1\\) if \\(x\\) is odd and call itself with \\(y\\) as argument. If the input is 1, return the amount of times the function called itself. You might have to pass in an extra parameter to compute this. Call your function on an array of five integers of your choice using vectorization. Computing even/odd can be done using the mod function. Make sure your function is only callable on integers \\(x\\). Call it only on \\(x \\geq 1\\).\n",
    "</p>    \n",
    "</div>\n",
    "<a href=\"https://docs.julialang.org/en/v1/base/math/#Base.mod\">Mod function Documentation</a>"
   ]
  },
  {
   "cell_type": "code",
   "execution_count": 39,
   "id": "a9d22825-3319-4bb2-8f54-375848162c7f",
   "metadata": {},
   "outputs": [],
   "source": [
    "# define your funcion here"
   ]
  },
  {
   "cell_type": "code",
   "execution_count": 40,
   "id": "dcedd7d6-1df4-4f65-8afe-d9dc3ef43276",
   "metadata": {},
   "outputs": [],
   "source": [
    "# call your function here"
   ]
  },
  {
   "cell_type": "code",
   "execution_count": 37,
   "id": "6d0ef488-c792-4231-86ba-91edabbf15ed",
   "metadata": {},
   "outputs": [
    {
     "data": {
      "text/plain": [
       "3-element Vector{String}:\n",
       " \"*\"\n",
       " \"**\"\n",
       " \"***\""
      ]
     },
     "execution_count": 37,
     "metadata": {},
     "output_type": "execute_result"
    }
   ],
   "source": [
    "# example on how to visualize the results\n",
    "visualize = x -> return (\"*\"^x)\n",
    "visualize.([1,2,3])"
   ]
  }
 ],
 "metadata": {
  "kernelspec": {
   "display_name": "Julia 1.10.0",
   "language": "julia",
   "name": "julia-1.10"
  },
  "language_info": {
   "file_extension": ".jl",
   "mimetype": "application/julia",
   "name": "julia",
   "version": "1.10.0"
  }
 },
 "nbformat": 4,
 "nbformat_minor": 5
}
